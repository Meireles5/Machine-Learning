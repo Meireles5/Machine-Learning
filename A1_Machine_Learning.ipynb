{
 "cells": [
  {
   "cell_type": "code",
   "execution_count": null,
   "metadata": {},
   "outputs": [
    {
     "name": "stdout",
     "output_type": "stream",
     "text": [
      "oi oi oi\n"
     ]
    }
   ],
   "source": [
    "import numpy as np\n",
    "import matplotlib.pyplot as plt\n",
    "from sklearn.model_selection import train_test_split\n",
    "from sklearn.linear_model import LogisticRegression\n",
    "from sklearn.discriminant_analysis import LinearDiscriminantAnalysis as LDA, QuadraticDiscriminantAnalysis as QDA\n",
    "from sklearn.datasets import make_classification, make_gaussian_quantiles\n",
    "\n",
    "# Introdução\n",
    "# Este notebook analisa os pressupostos e comportamento dos métodos Logistic Regression, LDA e QDA\n",
    "# em diferentes tipos de conjuntos de dados.\n",
    "\n",
    "# Função para gerar datasets apropriados para cada método\n",
    "def generate_datasets():\n",
    "    # Dataset para Regressão Logística (linearmente separável)\n",
    "    X_lin, y_lin = make_classification(n_samples=200, n_features=2, n_classes=2, n_redundant=0, n_clusters_per_class=1, random_state=42)\n",
    "    \n",
    "    # Dataset para LDA (distribuição normal)\n",
    "    X_lda, y_lda = make_gaussian_quantiles(mean=None, cov=2.0, n_samples=200, n_features=2, n_classes=2, random_state=42)\n",
    "    \n",
    "    # Dataset para QDA (não linearmente separável)\n",
    "    X_qda, y_qda = make_gaussian_quantiles(mean=None, cov=[[1, 0.5], [0.5, 1]], n_samples=200, n_features=2, n_classes=2, random_state=42)\n",
    "    \n",
    "    return (X_lin, y_lin), (X_lda, y_lda), (X_qda, y_qda)\n",
    "\n",
    "# Treinar e visualizar cada modelo nos datasets\n",
    "models = {\"Logistic Regression\": LogisticRegression(), \"LDA\": LDA(), \"QDA\": QDA()}\n",
    "datasets = generate_datasets()\n",
    "\n",
    "def plot_decision_boundaries(X, y, model, title):\n",
    "    model.fit(X, y)\n",
    "    x_min, x_max = X[:, 0].min() - 1, X[:, 0].max() + 1\n",
    "    y_min, y_max = X[:, 1].min() - 1, X[:, 1].max() + 1\n",
    "    xx, yy = np.meshgrid(np.linspace(x_min, x_max, 100), np.linspace(y_min, y_max, 100))\n",
    "    Z = model.predict(np.c_[xx.ravel(), yy.ravel()])\n",
    "    Z = Z.reshape(xx.shape)\n",
    "    plt.contourf(xx, yy, Z, alpha=0.3)\n",
    "    plt.scatter(X[:, 0], X[:, 1], c=y, edgecolors='k')\n",
    "    plt.title(title)\n",
    "    plt.show()\n",
    "\n",
    "# Plotar os resultados\n",
    "for (X, y), (name, model) in zip(datasets, models.items()):\n",
    "    plot_decision_boundaries(X, y, model, f\"{name} - Decision Boundary\")\n"
   ]
  }
 ],
 "metadata": {
  "kernelspec": {
   "display_name": "Python 3",
   "language": "python",
   "name": "python3"
  },
  "language_info": {
   "codemirror_mode": {
    "name": "ipython",
    "version": 3
   },
   "file_extension": ".py",
   "mimetype": "text/x-python",
   "name": "python",
   "nbconvert_exporter": "python",
   "pygments_lexer": "ipython3",
   "version": "3.11.9"
  }
 },
 "nbformat": 4,
 "nbformat_minor": 2
}

{
 "cells": [
  {
   "cell_type": "markdown",
   "metadata": {},
   "source": [
    "# 1º passo Gerar os dataset's \n",
    "\n",
    "• number of instances (rows in your dataset table) \n",
    "\n",
    "• number of classes (for multi-class classification problems) \n",
    "\n",
    "• proportion of classes (balanced and imbalanced class problem) \n",
    "\n",
    "• distribution of points within each class (shape of point clouds) \n",
    "\n",
    "• shape of the border between the class regions, from linear to whatever \n",
    "\n",
    "• level of noise\n",
    "\n",
    "• level of overlap between the classes\n"
   ]
  },
  {
   "cell_type": "code",
   "execution_count": null,
   "metadata": {},
   "outputs": [],
   "source": [
    "import numpy as np\n",
    "import matplotlib.pyplot as plt\n",
    "from sklearn.datasets import make_classification, make_blobs, make_moons, make_circles\n",
    "\n"
   ]
  }
 ],
 "metadata": {
  "kernelspec": {
   "display_name": "Python 3",
   "language": "python",
   "name": "python3"
  },
  "language_info": {
   "name": "python",
   "version": "3.13.2"
  }
 },
 "nbformat": 4,
 "nbformat_minor": 2
}
